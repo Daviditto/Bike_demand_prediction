{
 "cells": [
  {
   "cell_type": "markdown",
   "id": "01bd1d1f",
   "metadata": {},
   "source": [
    "### load data"
   ]
  },
  {
   "cell_type": "code",
   "execution_count": 82,
   "id": "57772bd7",
   "metadata": {},
   "outputs": [],
   "source": [
    "import pandas as pd\n",
    "import numpy as np\n",
    "import seaborn as sns\n",
    "import matplotlib.pyplot as plt\n",
    "import missingno as msno\n",
    "import calendar"
   ]
  },
  {
   "cell_type": "code",
   "execution_count": 83,
   "id": "1a68ed5a",
   "metadata": {},
   "outputs": [],
   "source": [
    "test = pd.read_csv('bike_demand.csv')\n",
    "train = pd.read_csv('bike_demand.csv')"
   ]
  },
  {
   "cell_type": "code",
   "execution_count": 84,
   "id": "8e7f11d2",
   "metadata": {},
   "outputs": [],
   "source": [
    "full = pd.concat([train,test])"
   ]
  },
  {
   "cell_type": "code",
   "execution_count": 85,
   "id": "54105c8f",
   "metadata": {},
   "outputs": [],
   "source": [
    "full = full.reset_index().drop('index', axis=1)"
   ]
  },
  {
   "cell_type": "markdown",
   "id": "579a3b49",
   "metadata": {},
   "source": [
    "### feature engineering"
   ]
  },
  {
   "cell_type": "code",
   "execution_count": 86,
   "id": "7475cb04",
   "metadata": {},
   "outputs": [],
   "source": [
    "full['datetime'] = pd.to_datetime(full['datetime'])\n",
    "full['date'] = full['datetime'].apply(lambda x: x.date())\n",
    "full['hour'] = full['datetime'].apply(lambda x: x.hour)\n",
    "full['weekday'] = full['datetime'].apply(lambda x: x.weekday())\n",
    "full['month'] = full['datetime'].apply(lambda x: x.month)\n",
    "full['year'] = full['datetime'].apply(lambda x: x.year)"
   ]
  },
  {
   "cell_type": "code",
   "execution_count": 87,
   "id": "616dc203",
   "metadata": {},
   "outputs": [
    {
     "data": {
      "text/plain": [
       "(21772, 17)"
      ]
     },
     "execution_count": 87,
     "metadata": {},
     "output_type": "execute_result"
    }
   ],
   "source": [
    "full.shape"
   ]
  },
  {
   "cell_type": "markdown",
   "id": "ec96b1b9",
   "metadata": {},
   "source": [
    "### fill windspeed with 0 values"
   ]
  },
  {
   "cell_type": "code",
   "execution_count": 88,
   "id": "66eb46ac",
   "metadata": {},
   "outputs": [],
   "source": [
    "from sklearn.ensemble import RandomForestRegressor"
   ]
  },
  {
   "cell_type": "code",
   "execution_count": 89,
   "id": "7b9ccd96",
   "metadata": {},
   "outputs": [],
   "source": [
    "regressor = RandomForestRegressor()"
   ]
  },
  {
   "cell_type": "code",
   "execution_count": 90,
   "id": "d124f6b2",
   "metadata": {},
   "outputs": [],
   "source": [
    "wind_0 = full[full['windspeed']==0]\n",
    "wind_not_0 = full[full['windspeed']!=0]"
   ]
  },
  {
   "cell_type": "code",
   "execution_count": 91,
   "id": "baa787bb",
   "metadata": {},
   "outputs": [],
   "source": [
    "columns_for_predictions = ['season', 'weather', 'humidity', 'month', 'temp','year', 'atemp']"
   ]
  },
  {
   "cell_type": "code",
   "execution_count": 92,
   "id": "dc265282",
   "metadata": {},
   "outputs": [
    {
     "data": {
      "text/plain": [
       "RandomForestRegressor()"
      ]
     },
     "execution_count": 92,
     "metadata": {},
     "output_type": "execute_result"
    }
   ],
   "source": [
    "regressor.fit(wind_not_0[columns_for_predictions], wind_not_0['windspeed'])"
   ]
  },
  {
   "cell_type": "code",
   "execution_count": 93,
   "id": "1bbe2116",
   "metadata": {},
   "outputs": [],
   "source": [
    "windprediction = regressor.predict(wind_0[columns_for_predictions])"
   ]
  },
  {
   "cell_type": "code",
   "execution_count": 94,
   "id": "9580a4b8",
   "metadata": {},
   "outputs": [
    {
     "name": "stderr",
     "output_type": "stream",
     "text": [
      "/var/folders/6h/5k5kd9fs35d2zrg3xjk3d2g80000gn/T/ipykernel_62374/3331354625.py:1: SettingWithCopyWarning: \n",
      "A value is trying to be set on a copy of a slice from a DataFrame.\n",
      "Try using .loc[row_indexer,col_indexer] = value instead\n",
      "\n",
      "See the caveats in the documentation: https://pandas.pydata.org/pandas-docs/stable/user_guide/indexing.html#returning-a-view-versus-a-copy\n",
      "  wind_0['windspeed']=windprediction\n"
     ]
    }
   ],
   "source": [
    "wind_0['windspeed']=windprediction"
   ]
  },
  {
   "cell_type": "code",
   "execution_count": 95,
   "id": "1d7ffe59",
   "metadata": {},
   "outputs": [],
   "source": [
    "full = pd.concat([wind_0, wind_not_0]).reset_index().drop('index', axis=1)"
   ]
  },
  {
   "cell_type": "code",
   "execution_count": 96,
   "id": "1a503fea",
   "metadata": {},
   "outputs": [
    {
     "data": {
      "text/plain": [
       "(21772, 17)"
      ]
     },
     "execution_count": 96,
     "metadata": {},
     "output_type": "execute_result"
    }
   ],
   "source": [
    "full.shape"
   ]
  },
  {
   "cell_type": "code",
   "execution_count": 98,
   "id": "0f025508",
   "metadata": {},
   "outputs": [
    {
     "data": {
      "text/html": [
       "<div>\n",
       "<style scoped>\n",
       "    .dataframe tbody tr th:only-of-type {\n",
       "        vertical-align: middle;\n",
       "    }\n",
       "\n",
       "    .dataframe tbody tr th {\n",
       "        vertical-align: top;\n",
       "    }\n",
       "\n",
       "    .dataframe thead th {\n",
       "        text-align: right;\n",
       "    }\n",
       "</style>\n",
       "<table border=\"1\" class=\"dataframe\">\n",
       "  <thead>\n",
       "    <tr style=\"text-align: right;\">\n",
       "      <th></th>\n",
       "      <th>datetime</th>\n",
       "      <th>season</th>\n",
       "      <th>holiday</th>\n",
       "      <th>workingday</th>\n",
       "      <th>weather</th>\n",
       "      <th>temp</th>\n",
       "      <th>atemp</th>\n",
       "      <th>humidity</th>\n",
       "      <th>windspeed</th>\n",
       "      <th>casual</th>\n",
       "      <th>registered</th>\n",
       "      <th>count</th>\n",
       "      <th>date</th>\n",
       "      <th>hour</th>\n",
       "      <th>weekday</th>\n",
       "      <th>month</th>\n",
       "      <th>year</th>\n",
       "    </tr>\n",
       "  </thead>\n",
       "  <tbody>\n",
       "    <tr>\n",
       "      <th>0</th>\n",
       "      <td>2011-01-01 00:00:00</td>\n",
       "      <td>1</td>\n",
       "      <td>0</td>\n",
       "      <td>0</td>\n",
       "      <td>1</td>\n",
       "      <td>9.84</td>\n",
       "      <td>14.395</td>\n",
       "      <td>81</td>\n",
       "      <td>11.091582</td>\n",
       "      <td>3</td>\n",
       "      <td>13</td>\n",
       "      <td>16</td>\n",
       "      <td>2011-01-01</td>\n",
       "      <td>0</td>\n",
       "      <td>5</td>\n",
       "      <td>1</td>\n",
       "      <td>2011</td>\n",
       "    </tr>\n",
       "    <tr>\n",
       "      <th>1</th>\n",
       "      <td>2011-01-01 01:00:00</td>\n",
       "      <td>1</td>\n",
       "      <td>0</td>\n",
       "      <td>0</td>\n",
       "      <td>1</td>\n",
       "      <td>9.02</td>\n",
       "      <td>13.635</td>\n",
       "      <td>80</td>\n",
       "      <td>9.714464</td>\n",
       "      <td>8</td>\n",
       "      <td>32</td>\n",
       "      <td>40</td>\n",
       "      <td>2011-01-01</td>\n",
       "      <td>1</td>\n",
       "      <td>5</td>\n",
       "      <td>1</td>\n",
       "      <td>2011</td>\n",
       "    </tr>\n",
       "    <tr>\n",
       "      <th>2</th>\n",
       "      <td>2011-01-01 02:00:00</td>\n",
       "      <td>1</td>\n",
       "      <td>0</td>\n",
       "      <td>0</td>\n",
       "      <td>1</td>\n",
       "      <td>9.02</td>\n",
       "      <td>13.635</td>\n",
       "      <td>80</td>\n",
       "      <td>9.714464</td>\n",
       "      <td>5</td>\n",
       "      <td>27</td>\n",
       "      <td>32</td>\n",
       "      <td>2011-01-01</td>\n",
       "      <td>2</td>\n",
       "      <td>5</td>\n",
       "      <td>1</td>\n",
       "      <td>2011</td>\n",
       "    </tr>\n",
       "    <tr>\n",
       "      <th>3</th>\n",
       "      <td>2011-01-01 03:00:00</td>\n",
       "      <td>1</td>\n",
       "      <td>0</td>\n",
       "      <td>0</td>\n",
       "      <td>1</td>\n",
       "      <td>9.84</td>\n",
       "      <td>14.395</td>\n",
       "      <td>75</td>\n",
       "      <td>6.605175</td>\n",
       "      <td>3</td>\n",
       "      <td>10</td>\n",
       "      <td>13</td>\n",
       "      <td>2011-01-01</td>\n",
       "      <td>3</td>\n",
       "      <td>5</td>\n",
       "      <td>1</td>\n",
       "      <td>2011</td>\n",
       "    </tr>\n",
       "    <tr>\n",
       "      <th>4</th>\n",
       "      <td>2011-01-01 04:00:00</td>\n",
       "      <td>1</td>\n",
       "      <td>0</td>\n",
       "      <td>0</td>\n",
       "      <td>1</td>\n",
       "      <td>9.84</td>\n",
       "      <td>14.395</td>\n",
       "      <td>75</td>\n",
       "      <td>6.605175</td>\n",
       "      <td>0</td>\n",
       "      <td>1</td>\n",
       "      <td>1</td>\n",
       "      <td>2011-01-01</td>\n",
       "      <td>4</td>\n",
       "      <td>5</td>\n",
       "      <td>1</td>\n",
       "      <td>2011</td>\n",
       "    </tr>\n",
       "  </tbody>\n",
       "</table>\n",
       "</div>"
      ],
      "text/plain": [
       "             datetime  season  holiday  workingday  weather  temp   atemp  \\\n",
       "0 2011-01-01 00:00:00       1        0           0        1  9.84  14.395   \n",
       "1 2011-01-01 01:00:00       1        0           0        1  9.02  13.635   \n",
       "2 2011-01-01 02:00:00       1        0           0        1  9.02  13.635   \n",
       "3 2011-01-01 03:00:00       1        0           0        1  9.84  14.395   \n",
       "4 2011-01-01 04:00:00       1        0           0        1  9.84  14.395   \n",
       "\n",
       "   humidity  windspeed  casual  registered  count        date  hour  weekday  \\\n",
       "0        81  11.091582       3          13     16  2011-01-01     0        5   \n",
       "1        80   9.714464       8          32     40  2011-01-01     1        5   \n",
       "2        80   9.714464       5          27     32  2011-01-01     2        5   \n",
       "3        75   6.605175       3          10     13  2011-01-01     3        5   \n",
       "4        75   6.605175       0           1      1  2011-01-01     4        5   \n",
       "\n",
       "   month  year  \n",
       "0      1  2011  \n",
       "1      1  2011  \n",
       "2      1  2011  \n",
       "3      1  2011  \n",
       "4      1  2011  "
      ]
     },
     "execution_count": 98,
     "metadata": {},
     "output_type": "execute_result"
    }
   ],
   "source": [
    "full.head(5)"
   ]
  },
  {
   "cell_type": "markdown",
   "id": "5b782a89",
   "metadata": {},
   "source": [
    "### one-hot encoding"
   ]
  },
  {
   "cell_type": "code",
   "execution_count": 100,
   "id": "12f19b4b",
   "metadata": {},
   "outputs": [],
   "source": [
    "categorical = ['season', 'holiday', 'workingday','weather', 'weekday', 'month', 'year', 'hour']\n",
    "Numerical = ['temp', 'humidity', 'windspeed', 'atemp']"
   ]
  },
  {
   "cell_type": "code",
   "execution_count": 101,
   "id": "7ba7b6e1",
   "metadata": {},
   "outputs": [],
   "source": [
    "for variable in categorical:\n",
    "    full[variable] = full[variable].astype('category')"
   ]
  },
  {
   "cell_type": "code",
   "execution_count": 105,
   "id": "312ad6d6",
   "metadata": {},
   "outputs": [],
   "source": [
    "full = full.sort_values(by='datetime').drop(['datetime', 'date'], axis=1)"
   ]
  },
  {
   "cell_type": "code",
   "execution_count": 108,
   "id": "1d4b6fcd",
   "metadata": {},
   "outputs": [
    {
     "data": {
      "text/html": [
       "<div>\n",
       "<style scoped>\n",
       "    .dataframe tbody tr th:only-of-type {\n",
       "        vertical-align: middle;\n",
       "    }\n",
       "\n",
       "    .dataframe tbody tr th {\n",
       "        vertical-align: top;\n",
       "    }\n",
       "\n",
       "    .dataframe thead th {\n",
       "        text-align: right;\n",
       "    }\n",
       "</style>\n",
       "<table border=\"1\" class=\"dataframe\">\n",
       "  <thead>\n",
       "    <tr style=\"text-align: right;\">\n",
       "      <th></th>\n",
       "      <th>season</th>\n",
       "      <th>holiday</th>\n",
       "      <th>workingday</th>\n",
       "      <th>weather</th>\n",
       "      <th>temp</th>\n",
       "      <th>atemp</th>\n",
       "      <th>humidity</th>\n",
       "      <th>windspeed</th>\n",
       "      <th>casual</th>\n",
       "      <th>registered</th>\n",
       "      <th>count</th>\n",
       "      <th>hour</th>\n",
       "      <th>weekday</th>\n",
       "      <th>month</th>\n",
       "      <th>year</th>\n",
       "    </tr>\n",
       "  </thead>\n",
       "  <tbody>\n",
       "    <tr>\n",
       "      <th>0</th>\n",
       "      <td>1</td>\n",
       "      <td>0</td>\n",
       "      <td>0</td>\n",
       "      <td>1</td>\n",
       "      <td>9.84</td>\n",
       "      <td>14.395</td>\n",
       "      <td>81</td>\n",
       "      <td>11.091582</td>\n",
       "      <td>3</td>\n",
       "      <td>13</td>\n",
       "      <td>16</td>\n",
       "      <td>0</td>\n",
       "      <td>5</td>\n",
       "      <td>1</td>\n",
       "      <td>2011</td>\n",
       "    </tr>\n",
       "    <tr>\n",
       "      <th>1313</th>\n",
       "      <td>1</td>\n",
       "      <td>0</td>\n",
       "      <td>0</td>\n",
       "      <td>1</td>\n",
       "      <td>9.84</td>\n",
       "      <td>14.395</td>\n",
       "      <td>81</td>\n",
       "      <td>11.091582</td>\n",
       "      <td>3</td>\n",
       "      <td>13</td>\n",
       "      <td>16</td>\n",
       "      <td>0</td>\n",
       "      <td>5</td>\n",
       "      <td>1</td>\n",
       "      <td>2011</td>\n",
       "    </tr>\n",
       "    <tr>\n",
       "      <th>1</th>\n",
       "      <td>1</td>\n",
       "      <td>0</td>\n",
       "      <td>0</td>\n",
       "      <td>1</td>\n",
       "      <td>9.02</td>\n",
       "      <td>13.635</td>\n",
       "      <td>80</td>\n",
       "      <td>9.714464</td>\n",
       "      <td>8</td>\n",
       "      <td>32</td>\n",
       "      <td>40</td>\n",
       "      <td>1</td>\n",
       "      <td>5</td>\n",
       "      <td>1</td>\n",
       "      <td>2011</td>\n",
       "    </tr>\n",
       "    <tr>\n",
       "      <th>1314</th>\n",
       "      <td>1</td>\n",
       "      <td>0</td>\n",
       "      <td>0</td>\n",
       "      <td>1</td>\n",
       "      <td>9.02</td>\n",
       "      <td>13.635</td>\n",
       "      <td>80</td>\n",
       "      <td>9.714464</td>\n",
       "      <td>8</td>\n",
       "      <td>32</td>\n",
       "      <td>40</td>\n",
       "      <td>1</td>\n",
       "      <td>5</td>\n",
       "      <td>1</td>\n",
       "      <td>2011</td>\n",
       "    </tr>\n",
       "    <tr>\n",
       "      <th>2</th>\n",
       "      <td>1</td>\n",
       "      <td>0</td>\n",
       "      <td>0</td>\n",
       "      <td>1</td>\n",
       "      <td>9.02</td>\n",
       "      <td>13.635</td>\n",
       "      <td>80</td>\n",
       "      <td>9.714464</td>\n",
       "      <td>5</td>\n",
       "      <td>27</td>\n",
       "      <td>32</td>\n",
       "      <td>2</td>\n",
       "      <td>5</td>\n",
       "      <td>1</td>\n",
       "      <td>2011</td>\n",
       "    </tr>\n",
       "  </tbody>\n",
       "</table>\n",
       "</div>"
      ],
      "text/plain": [
       "     season holiday workingday weather  temp   atemp  humidity  windspeed  \\\n",
       "0         1       0          0       1  9.84  14.395        81  11.091582   \n",
       "1313      1       0          0       1  9.84  14.395        81  11.091582   \n",
       "1         1       0          0       1  9.02  13.635        80   9.714464   \n",
       "1314      1       0          0       1  9.02  13.635        80   9.714464   \n",
       "2         1       0          0       1  9.02  13.635        80   9.714464   \n",
       "\n",
       "      casual  registered  count hour weekday month  year  \n",
       "0          3          13     16    0       5     1  2011  \n",
       "1313       3          13     16    0       5     1  2011  \n",
       "1          8          32     40    1       5     1  2011  \n",
       "1314       8          32     40    1       5     1  2011  \n",
       "2          5          27     32    2       5     1  2011  "
      ]
     },
     "execution_count": 108,
     "metadata": {},
     "output_type": "execute_result"
    }
   ],
   "source": [
    "full.head(5)"
   ]
  },
  {
   "cell_type": "code",
   "execution_count": 110,
   "id": "81e8bbe1",
   "metadata": {},
   "outputs": [],
   "source": [
    "data = pd.get_dummies(full)"
   ]
  },
  {
   "cell_type": "code",
   "execution_count": 114,
   "id": "a87c5a23",
   "metadata": {},
   "outputs": [
    {
     "data": {
      "text/html": [
       "<div>\n",
       "<style scoped>\n",
       "    .dataframe tbody tr th:only-of-type {\n",
       "        vertical-align: middle;\n",
       "    }\n",
       "\n",
       "    .dataframe tbody tr th {\n",
       "        vertical-align: top;\n",
       "    }\n",
       "\n",
       "    .dataframe thead th {\n",
       "        text-align: right;\n",
       "    }\n",
       "</style>\n",
       "<table border=\"1\" class=\"dataframe\">\n",
       "  <thead>\n",
       "    <tr style=\"text-align: right;\">\n",
       "      <th></th>\n",
       "      <th>temp</th>\n",
       "      <th>atemp</th>\n",
       "      <th>humidity</th>\n",
       "      <th>windspeed</th>\n",
       "      <th>casual</th>\n",
       "      <th>registered</th>\n",
       "      <th>count</th>\n",
       "      <th>season_1</th>\n",
       "      <th>season_2</th>\n",
       "      <th>season_3</th>\n",
       "      <th>...</th>\n",
       "      <th>month_5</th>\n",
       "      <th>month_6</th>\n",
       "      <th>month_7</th>\n",
       "      <th>month_8</th>\n",
       "      <th>month_9</th>\n",
       "      <th>month_10</th>\n",
       "      <th>month_11</th>\n",
       "      <th>month_12</th>\n",
       "      <th>year_2011</th>\n",
       "      <th>year_2012</th>\n",
       "    </tr>\n",
       "  </thead>\n",
       "  <tbody>\n",
       "    <tr>\n",
       "      <th>0</th>\n",
       "      <td>9.84</td>\n",
       "      <td>14.395</td>\n",
       "      <td>81</td>\n",
       "      <td>11.091582</td>\n",
       "      <td>3</td>\n",
       "      <td>13</td>\n",
       "      <td>16</td>\n",
       "      <td>1</td>\n",
       "      <td>0</td>\n",
       "      <td>0</td>\n",
       "      <td>...</td>\n",
       "      <td>0</td>\n",
       "      <td>0</td>\n",
       "      <td>0</td>\n",
       "      <td>0</td>\n",
       "      <td>0</td>\n",
       "      <td>0</td>\n",
       "      <td>0</td>\n",
       "      <td>0</td>\n",
       "      <td>1</td>\n",
       "      <td>0</td>\n",
       "    </tr>\n",
       "    <tr>\n",
       "      <th>1313</th>\n",
       "      <td>9.84</td>\n",
       "      <td>14.395</td>\n",
       "      <td>81</td>\n",
       "      <td>11.091582</td>\n",
       "      <td>3</td>\n",
       "      <td>13</td>\n",
       "      <td>16</td>\n",
       "      <td>1</td>\n",
       "      <td>0</td>\n",
       "      <td>0</td>\n",
       "      <td>...</td>\n",
       "      <td>0</td>\n",
       "      <td>0</td>\n",
       "      <td>0</td>\n",
       "      <td>0</td>\n",
       "      <td>0</td>\n",
       "      <td>0</td>\n",
       "      <td>0</td>\n",
       "      <td>0</td>\n",
       "      <td>1</td>\n",
       "      <td>0</td>\n",
       "    </tr>\n",
       "    <tr>\n",
       "      <th>1</th>\n",
       "      <td>9.02</td>\n",
       "      <td>13.635</td>\n",
       "      <td>80</td>\n",
       "      <td>9.714464</td>\n",
       "      <td>8</td>\n",
       "      <td>32</td>\n",
       "      <td>40</td>\n",
       "      <td>1</td>\n",
       "      <td>0</td>\n",
       "      <td>0</td>\n",
       "      <td>...</td>\n",
       "      <td>0</td>\n",
       "      <td>0</td>\n",
       "      <td>0</td>\n",
       "      <td>0</td>\n",
       "      <td>0</td>\n",
       "      <td>0</td>\n",
       "      <td>0</td>\n",
       "      <td>0</td>\n",
       "      <td>1</td>\n",
       "      <td>0</td>\n",
       "    </tr>\n",
       "    <tr>\n",
       "      <th>1314</th>\n",
       "      <td>9.02</td>\n",
       "      <td>13.635</td>\n",
       "      <td>80</td>\n",
       "      <td>9.714464</td>\n",
       "      <td>8</td>\n",
       "      <td>32</td>\n",
       "      <td>40</td>\n",
       "      <td>1</td>\n",
       "      <td>0</td>\n",
       "      <td>0</td>\n",
       "      <td>...</td>\n",
       "      <td>0</td>\n",
       "      <td>0</td>\n",
       "      <td>0</td>\n",
       "      <td>0</td>\n",
       "      <td>0</td>\n",
       "      <td>0</td>\n",
       "      <td>0</td>\n",
       "      <td>0</td>\n",
       "      <td>1</td>\n",
       "      <td>0</td>\n",
       "    </tr>\n",
       "    <tr>\n",
       "      <th>2</th>\n",
       "      <td>9.02</td>\n",
       "      <td>13.635</td>\n",
       "      <td>80</td>\n",
       "      <td>9.714464</td>\n",
       "      <td>5</td>\n",
       "      <td>27</td>\n",
       "      <td>32</td>\n",
       "      <td>1</td>\n",
       "      <td>0</td>\n",
       "      <td>0</td>\n",
       "      <td>...</td>\n",
       "      <td>0</td>\n",
       "      <td>0</td>\n",
       "      <td>0</td>\n",
       "      <td>0</td>\n",
       "      <td>0</td>\n",
       "      <td>0</td>\n",
       "      <td>0</td>\n",
       "      <td>0</td>\n",
       "      <td>1</td>\n",
       "      <td>0</td>\n",
       "    </tr>\n",
       "  </tbody>\n",
       "</table>\n",
       "<p>5 rows × 64 columns</p>\n",
       "</div>"
      ],
      "text/plain": [
       "      temp   atemp  humidity  windspeed  casual  registered  count  season_1  \\\n",
       "0     9.84  14.395        81  11.091582       3          13     16         1   \n",
       "1313  9.84  14.395        81  11.091582       3          13     16         1   \n",
       "1     9.02  13.635        80   9.714464       8          32     40         1   \n",
       "1314  9.02  13.635        80   9.714464       8          32     40         1   \n",
       "2     9.02  13.635        80   9.714464       5          27     32         1   \n",
       "\n",
       "      season_2  season_3  ...  month_5  month_6  month_7  month_8  month_9  \\\n",
       "0            0         0  ...        0        0        0        0        0   \n",
       "1313         0         0  ...        0        0        0        0        0   \n",
       "1            0         0  ...        0        0        0        0        0   \n",
       "1314         0         0  ...        0        0        0        0        0   \n",
       "2            0         0  ...        0        0        0        0        0   \n",
       "\n",
       "      month_10  month_11  month_12  year_2011  year_2012  \n",
       "0            0         0         0          1          0  \n",
       "1313         0         0         0          1          0  \n",
       "1            0         0         0          1          0  \n",
       "1314         0         0         0          1          0  \n",
       "2            0         0         0          1          0  \n",
       "\n",
       "[5 rows x 64 columns]"
      ]
     },
     "execution_count": 114,
     "metadata": {},
     "output_type": "execute_result"
    }
   ],
   "source": [
    "data.head(5)"
   ]
  },
  {
   "cell_type": "code",
   "execution_count": 111,
   "id": "0fd83639",
   "metadata": {},
   "outputs": [
    {
     "data": {
      "text/plain": [
       "(21772, 64)"
      ]
     },
     "execution_count": 111,
     "metadata": {},
     "output_type": "execute_result"
    }
   ],
   "source": [
    "data.shape"
   ]
  },
  {
   "cell_type": "markdown",
   "id": "e6e4eed4",
   "metadata": {},
   "source": [
    "### train_test_split"
   ]
  },
  {
   "cell_type": "code",
   "execution_count": 112,
   "id": "1c1c5436",
   "metadata": {},
   "outputs": [],
   "source": [
    "from sklearn.model_selection import train_test_split"
   ]
  },
  {
   "cell_type": "code",
   "execution_count": 115,
   "id": "ad64619f",
   "metadata": {},
   "outputs": [],
   "source": [
    "X = data.drop('count', axis=1).copy()\n",
    "y = data['count']"
   ]
  },
  {
   "cell_type": "code",
   "execution_count": 149,
   "id": "9b9dba04",
   "metadata": {},
   "outputs": [],
   "source": [
    "Xtrain, Xtest, ytrain, ytest = train_test_split(X,y, random_state=101, test_size=0.3)"
   ]
  },
  {
   "cell_type": "markdown",
   "id": "5d9e7453",
   "metadata": {},
   "source": [
    "### build a prediction model"
   ]
  },
  {
   "cell_type": "code",
   "execution_count": 233,
   "id": "008919d5",
   "metadata": {},
   "outputs": [],
   "source": [
    "from sklearn.linear_model import LinearRegression, Lasso, Ridge\n",
    "from sklearn.metrics import mean_squared_error, r2_score"
   ]
  },
  {
   "cell_type": "code",
   "execution_count": 234,
   "id": "f69803ea",
   "metadata": {},
   "outputs": [],
   "source": [
    "lr = LinearRegression()"
   ]
  },
  {
   "cell_type": "code",
   "execution_count": 235,
   "id": "a749901b",
   "metadata": {},
   "outputs": [
    {
     "data": {
      "text/plain": [
       "LinearRegression()"
      ]
     },
     "execution_count": 235,
     "metadata": {},
     "output_type": "execute_result"
    }
   ],
   "source": [
    "lr.fit(Xtrain, ytrain)"
   ]
  },
  {
   "cell_type": "code",
   "execution_count": 236,
   "id": "0ccb46b0",
   "metadata": {},
   "outputs": [],
   "source": [
    "predict = lr.predict(Xtest)"
   ]
  },
  {
   "cell_type": "code",
   "execution_count": 237,
   "id": "d82572b0",
   "metadata": {},
   "outputs": [
    {
     "data": {
      "text/plain": [
       "8.307743758388551e-14"
      ]
     },
     "execution_count": 237,
     "metadata": {},
     "output_type": "execute_result"
    }
   ],
   "source": [
    "np.sqrt(mean_squared_error(ytest, predict))"
   ]
  },
  {
   "cell_type": "code",
   "execution_count": 246,
   "id": "0772b554",
   "metadata": {},
   "outputs": [
    {
     "data": {
      "image/png": "[encoded data removed]",
      "text/plain": [
       "<Figure size 1296x432 with 3 Axes>"
      ]
     },
     "metadata": {},
     "output_type": "display_data"
    }
   ],
   "source": [
    "fig, axes = plt.subplots(1,3, figsize=(18,6), subplot_kw=dict(xticks=[],yticks=[]))\n",
    "sns.histplot(ytest, kde=True, ax=axes[0])\n",
    "axes[0].set_title('ytest distribution')\n",
    "sns.histplot(pred, kde=True, ax=axes[1], color='r')\n",
    "axes[1].set_title('predcit distribution')\n",
    "sns.scatterplot(x=ytest, y=predict, ax=axes[2]);"
   ]
  },
  {
   "cell_type": "markdown",
   "id": "7acba704",
   "metadata": {},
   "source": [
    "### build a lasso model"
   ]
  },
  {
   "cell_type": "code",
   "execution_count": 247,
   "id": "e1de0884",
   "metadata": {},
   "outputs": [],
   "source": [
    "lasso = Lasso()"
   ]
  },
  {
   "cell_type": "code",
   "execution_count": 248,
   "id": "019c5e49",
   "metadata": {},
   "outputs": [
    {
     "data": {
      "text/plain": [
       "Lasso()"
      ]
     },
     "execution_count": 248,
     "metadata": {},
     "output_type": "execute_result"
    }
   ],
   "source": [
    "lasso.fit(Xtrain, ytrain)"
   ]
  },
  {
   "cell_type": "code",
   "execution_count": 249,
   "id": "49defdca",
   "metadata": {},
   "outputs": [],
   "source": [
    "pred = lasso.predict(Xtest)"
   ]
  },
  {
   "cell_type": "code",
   "execution_count": 250,
   "id": "94600279",
   "metadata": {},
   "outputs": [
    {
     "data": {
      "text/plain": [
       "0.02138868981328108"
      ]
     },
     "execution_count": 250,
     "metadata": {},
     "output_type": "execute_result"
    }
   ],
   "source": [
    "np.sqrt(mean_squared_error(ytest, pred))"
   ]
  },
  {
   "cell_type": "code",
   "execution_count": 252,
   "id": "547f58f4",
   "metadata": {},
   "outputs": [
    {
     "data": {
      "image/png": "[encoded data removed]",
      "text/plain": [
       "<Figure size 1296x432 with 3 Axes>"
      ]
     },
     "metadata": {},
     "output_type": "display_data"
    }
   ],
   "source": [
    "fig, axes = plt.subplots(1,3, figsize=(18,6), subplot_kw=dict(xticks=[],yticks=[]))\n",
    "sns.histplot(ytest, kde=True, ax=axes[0])\n",
    "axes[0].set_title('ytest distribution')\n",
    "sns.histplot(pred, kde=True, ax=axes[1], color='r')\n",
    "axes[1].set_title('predcit distribution')\n",
    "sns.scatterplot(x=ytest, y=pred, ax=axes[2]);"
   ]
  },
  {
   "cell_type": "markdown",
   "id": "1a4a5dc2",
   "metadata": {},
   "source": [
    "### build a ridge model"
   ]
  },
  {
   "cell_type": "code",
   "execution_count": 253,
   "id": "50eb2132",
   "metadata": {},
   "outputs": [],
   "source": [
    "ridge = Ridge()"
   ]
  },
  {
   "cell_type": "code",
   "execution_count": 254,
   "id": "9d57fe86",
   "metadata": {},
   "outputs": [
    {
     "data": {
      "text/plain": [
       "Ridge()"
      ]
     },
     "execution_count": 254,
     "metadata": {},
     "output_type": "execute_result"
    }
   ],
   "source": [
    "ridge.fit(Xtrain, ytrain)"
   ]
  },
  {
   "cell_type": "code",
   "execution_count": 255,
   "id": "3c70d65f",
   "metadata": {},
   "outputs": [],
   "source": [
    "preds = ridge.predict(Xtest)"
   ]
  },
  {
   "cell_type": "code",
   "execution_count": 257,
   "id": "d6aa9ff0",
   "metadata": {},
   "outputs": [
    {
     "data": {
      "text/plain": [
       "2.118523558131704e-06"
      ]
     },
     "execution_count": 257,
     "metadata": {},
     "output_type": "execute_result"
    }
   ],
   "source": [
    "np.sqrt(mean_squared_error(preds, ytest))"
   ]
  },
  {
   "cell_type": "code",
   "execution_count": 258,
   "id": "0bdd0428",
   "metadata": {},
   "outputs": [
    {
     "data": {
      "image/png": "[encoded data removed]",
      "text/plain": [
       "<Figure size 1296x432 with 3 Axes>"
      ]
     },
     "metadata": {},
     "output_type": "display_data"
    }
   ],
   "source": [
    "fig, axes = plt.subplots(1,3, figsize=(18,6), subplot_kw=dict(xticks=[],yticks=[]))\n",
    "sns.histplot(ytest, kde=True, ax=axes[0])\n",
    "axes[0].set_title('ytest distribution')\n",
    "sns.histplot(pred, kde=True, ax=axes[1], color='r')\n",
    "axes[1].set_title('predcit distribution')\n",
    "sns.scatterplot(x=ytest, y=preds, ax=axes[2]);"
   ]
  },
  {
   "cell_type": "markdown",
   "id": "a49fedfa",
   "metadata": {},
   "source": [
    "### build Random forest regression model"
   ]
  },
  {
   "cell_type": "code",
   "execution_count": 195,
   "id": "d3e77b64",
   "metadata": {},
   "outputs": [],
   "source": [
    "rf = RandomForestRegressor()"
   ]
  },
  {
   "cell_type": "code",
   "execution_count": 196,
   "id": "8b563a2c",
   "metadata": {},
   "outputs": [
    {
     "data": {
      "text/plain": [
       "RandomForestRegressor()"
      ]
     },
     "execution_count": 196,
     "metadata": {},
     "output_type": "execute_result"
    }
   ],
   "source": [
    "rf.fit(Xtrain, ytrain)"
   ]
  },
  {
   "cell_type": "code",
   "execution_count": 197,
   "id": "e6530608",
   "metadata": {},
   "outputs": [],
   "source": [
    "prediction = rf.predict(Xtest)"
   ]
  },
  {
   "cell_type": "code",
   "execution_count": 261,
   "id": "732fdd4a",
   "metadata": {},
   "outputs": [
    {
     "data": {
      "text/plain": [
       "1.9284615293486116"
      ]
     },
     "execution_count": 261,
     "metadata": {},
     "output_type": "execute_result"
    }
   ],
   "source": [
    "np.sqrt(mean_squared_error(ytest, prediction))"
   ]
  },
  {
   "cell_type": "code",
   "execution_count": 263,
   "id": "abffb104",
   "metadata": {},
   "outputs": [
    {
     "data": {
      "image/png": "[encoded data removed]",
      "text/plain": [
       "<Figure size 1296x432 with 3 Axes>"
      ]
     },
     "metadata": {},
     "output_type": "display_data"
    }
   ],
   "source": [
    "fig, axes = plt.subplots(1,3, figsize=(18,6), subplot_kw=dict(xticks=[],yticks=[]))\n",
    "sns.histplot(ytest, kde=True, ax=axes[0])\n",
    "axes[0].set_title('ytest distribution')\n",
    "sns.histplot(pred, kde=True, ax=axes[1], color='r')\n",
    "axes[1].set_title('predcit distribution')\n",
    "sns.scatterplot(x=ytest, y=prediction, ax=axes[2]);"
   ]
  },
  {
   "cell_type": "code",
   "execution_count": null,
   "id": "096f45a9",
   "metadata": {},
   "outputs": [],
   "source": []
  }
 ],
 "metadata": {
  "kernelspec": {
   "display_name": "Python 3 (ipykernel)",
   "language": "python",
   "name": "python3"
  },
  "language_info": {
   "codemirror_mode": {
    "name": "ipython",
    "version": 3
   },
   "file_extension": ".py",
   "mimetype": "text/x-python",
   "name": "python",
   "nbconvert_exporter": "python",
   "pygments_lexer": "ipython3",
   "version": "3.10.1"
  }
 },
 "nbformat": 4,
 "nbformat_minor": 5
}
